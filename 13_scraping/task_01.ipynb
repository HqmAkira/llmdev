{
 "cells": [
  {
   "cell_type": "markdown",
   "id": "bc8016a3",
   "metadata": {},
   "source": [
    "# アイディア\n",
    "## 前提条件\n",
    "日本には百名山があります。ネットには百名山のリストがあります。\n",
    "https://www.momonayama.net/hundred_mt_list_data/list.html\n",
    "\n",
    "登山者に対して、百名山は登山対象でありますが、一つ一つマークして、どれから先に挑戦するかを人力でまとめる必要があります。\n",
    "また\n",
    "\n",
    "## 応用用途\n",
    "1.ネットから百名山に関する情報をスクレイピングします。\n",
    "2.百名山の標高、傾斜度、所要日数、登山難易度などの客観的情報をOpenAIに依頼して、表にまとめます。\n",
    "3.ユーザーの所在位置、希望などを入力して、LLMにおすすめな登山ロードマップのまとめをお願いします。"
   ]
  }
 ],
 "metadata": {
  "language_info": {
   "name": "python"
  }
 },
 "nbformat": 4,
 "nbformat_minor": 5
}
