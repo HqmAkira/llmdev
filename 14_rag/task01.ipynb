{
 "cells": [
  {
   "cell_type": "code",
   "execution_count": 4,
   "id": "ea08af5d",
   "metadata": {},
   "outputs": [
    {
     "data": {
      "text/plain": [
       "'質問:こんにちは！'"
      ]
     },
     "metadata": {},
     "output_type": "display_data"
    },
    {
     "name": "stdout",
     "output_type": "stream",
     "text": [
      "こんにちは！今日はどんなことをお手伝いできますか？\n"
     ]
    },
    {
     "data": {
      "text/plain": [
       "'質問:退職する時の手続きを教えて'"
      ]
     },
     "metadata": {},
     "output_type": "display_data"
    },
    {
     "name": "stdout",
     "output_type": "stream",
     "text": [
      "退職する際の手続きは以下の通りです。\n",
      "\n",
      "1. **退職の申し出と届け出**\n",
      "   - 自己都合退職を希望する場合、退職希望日の1ヶ月前までに直属の上司に申し出る必要があります。\n",
      "   - 退職届を提出し、その後、退職日や引き継ぎ内容について上司と人事部と協議します。\n",
      "\n",
      "2. **退職までの流れ**\n",
      "   - 引き継ぎ：担当業務の進捗や内容、必要な手順を文書にまとめ、後任者へ引き継ぎます。\n",
      "   - 社内備品の返却：パソコン、スマートフォン、IDカード、制服などの会社の備品を退職日までに返却します。\n",
      "   - 最終面談：人事部による退職面談が実施され、退職理由や今後のキャリア計画について意見を伺います。\n",
      "\n",
      "3. **退職日の決定**\n",
      "   - 退職日は業務の都合や引き継ぎ内容を考慮し、上司および人事部と話し合いの上で最終決定します。\n",
      "\n",
      "他に知りたいことがあれば教えてください！\n",
      "参考した情報は以下の通りです:\n",
      "ファイル名： 09退職・解雇に関する規則.md\n",
      "関連度スコア: 0.8776669244760512\n",
      "テキスト：\n",
      "3. 退職後の手続きとサポート\n",
      "\n",
      "1. **退職証明書の発行**\n",
      "   - 退職後、次の就職先などで必要な場合、「退職証明書」を発行します。希望する場合は人事部まで申請してください。\n",
      "\n",
      "2. **失業保険の手続き**\n",
      "   - 退職後に失業手当を受け取るためには、ハローワークで所定の手続きを行う必要があります。\n",
      "   - 会社から「離職票」を発行し、退職日から2週間以内に郵送いたします。\n",
      "\n",
      "3. **退職金の支払い**\n",
      "   - 勤続3年以上の従業員には、会社の規定に基づいて退職金が支給されます。支給額は勤続年数や退職理由に基づいて計算され、退職月の給与支給日に合わせて支払われます。\n",
      "--------------------------------------------------\n",
      "ファイル名： 09退職・解雇に関する規則.md\n",
      "関連度スコア: 0.8717623313907988\n",
      "テキスト：\n",
      "2. 退職手続き\n",
      "\n",
      "1. **退職の申し出と届け出**\n",
      "   - 自己都合退職を希望する場合は、原則として**退職希望日の1ヶ月前まで**に直属の上司に申し出てください。\n",
      "   - 退職届（書面）の提出が必要です。提出後は、退職日や引き継ぎ内容について上司と人事部と協議を行います。\n",
      "\n",
      "2. **退職までの流れ**\n",
      "   - 退職が決まった後は、以下の流れで準備を進めてください。\n",
      "     1. **引き継ぎ**：担当業務の進捗や内容、必要な手順を文書にまとめ、後任者へ引き継ぎます。\n",
      "     2. **社内備品の返却**：会社の備品（パソコン、スマートフォン、IDカード、制服など）を退職日までに返却してください。\n",
      "     3. **最終面談**：人事部による退職面談を実施し、退職理由や今後のキャリア計画について意見を伺います。\n",
      "\n",
      "3. **退職日の決定**\n",
      "   - 退職日については、業務の都合や引き継ぎ内容を考慮して、上司および人事部と話し合いの上で最終決定します。\n",
      "--------------------------------------------------\n",
      "\n",
      "---ご利用ありがとうございました！---\n"
     ]
    }
   ],
   "source": [
    "# 必要なモジュールをインポート\n",
    "import os\n",
    "from dotenv import load_dotenv\n",
    "from llama_index.core import VectorStoreIndex, SimpleDirectoryReader\n",
    "from llama_index.llms.openai import OpenAI\n",
    "\n",
    "# 環境変数の取得\n",
    "load_dotenv(\"../.env\")\n",
    "os.environ['OPENAI_API_KEY']  = os.environ['API_KEY']\n",
    "\n",
    "# モデル名\n",
    "MODEL_NAME = \"gpt-4o-mini\"\n",
    "\n",
    "# Indexの構築\n",
    "documents = SimpleDirectoryReader('./data/text').load_data()\n",
    "index = VectorStoreIndex.from_documents(documents)\n",
    "\n",
    "# Chat Engineの作成\n",
    "llm = OpenAI(model=MODEL_NAME)\n",
    "chat_engine = index.as_chat_engine(llm=llm)\n",
    "\n",
    "# チャットの開始\n",
    "while(True):\n",
    "    message = input(\"メッセージを入力:\")\n",
    "    if message.strip()==\"\":\n",
    "        break\n",
    "    display(f\"質問:{message}\")\n",
    "\n",
    "    # 質問（以下にソースコードを記述）\n",
    "    response = chat_engine.chat(message)\n",
    "\n",
    "    # 回答を表示（以下にソースコードを記述）\n",
    "    ## 言語モデルからの回答を表示\n",
    "    print(response)\n",
    "\n",
    "    ## 引用元を表示\n",
    "    if response.sources:\n",
    "        print(\"参考した情報は以下の通りです:\")\n",
    "        for source in response.sources:\n",
    "            for source_node in source.raw_output.source_nodes:\n",
    "                print(\"ファイル名：\", source_node.metadata[\"file_name\"])\n",
    "                print(\"関連度スコア:\", source_node.score)\n",
    "                print(\"テキスト：\")\n",
    "                print(source_node.node.text)\n",
    "                print(\"-\" * 50)  # 区切り線\n",
    "\n",
    "print(\"\\n---ご利用ありがとうございました！---\")"
   ]
  }
 ],
 "metadata": {
  "kernelspec": {
   "display_name": ".venv (3.12.10)",
   "language": "python",
   "name": "python3"
  },
  "language_info": {
   "codemirror_mode": {
    "name": "ipython",
    "version": 3
   },
   "file_extension": ".py",
   "mimetype": "text/x-python",
   "name": "python",
   "nbconvert_exporter": "python",
   "pygments_lexer": "ipython3",
   "version": "3.12.10"
  }
 },
 "nbformat": 4,
 "nbformat_minor": 5
}
