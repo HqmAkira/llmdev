{
 "cells": [
  {
   "cell_type": "code",
   "execution_count": null,
   "id": "5ae67d72",
   "metadata": {},
   "outputs": [],
   "source": [
    "# 必要なモジュールをインポート\n",
    "import os\n",
    "from dotenv import load_dotenv\n",
    "from llama_index.core import VectorStoreIndex, SimpleDirectoryReader\n",
    "from llama_index.llms.openai import OpenAI\n",
    "\n",
    "# 環境変数の取得\n",
    "load_dotenv(\"../.env\")\n",
    "os.environ['OPENAI_API_KEY']  = os.environ['API_KEY']\n",
    "\n",
    "# モデル名\n",
    "MODEL_NAME = \"gpt-4o-mini\""
   ]
  },
  {
   "cell_type": "code",
   "execution_count": null,
   "id": "09af23a6",
   "metadata": {},
   "outputs": [],
   "source": [
    "# ドキュメントからテキスト情報を読込\n",
    "documents = SimpleDirectoryReader('./data/text').load_data()\n",
    "\n",
    "# インデックスの構築\n",
    "index = VectorStoreIndex.from_documents(documents)"
   ]
  },
  {
   "cell_type": "code",
   "execution_count": null,
   "id": "dbd7be62",
   "metadata": {},
   "outputs": [],
   "source": [
    "# Chat Engineの作成\n",
    "llm = OpenAI(model=MODEL_NAME)\n",
    "chat_engine = index.as_chat_engine(chat_mode=\"openai\", llm=llm, verbose=True)"
   ]
  },
  {
   "cell_type": "code",
   "execution_count": null,
   "id": "f9508705",
   "metadata": {},
   "outputs": [],
   "source": [
    "# 質問：1回目\n",
    "response = chat_engine.chat(\"有給休暇はいつから取得できますか？\")\n",
    "\n",
    "# 言語モデルからの回答を表示\n",
    "print(response)\n",
    "# 引用元を表示\n",
    "for source in response.sources:\n",
    "    for source_node in source.raw_output.source_nodes:\n",
    "        print(\"ファイル名：\", source_node.metadata[\"file_name\"])\n",
    "        print(\"関連度スコア:\", source_node.score)\n",
    "        print(\"テキスト：\")\n",
    "        print(source_node.node.text)\n",
    "        print(\"-\" * 50)  # 区切り線"
   ]
  },
  {
   "cell_type": "code",
   "execution_count": null,
   "id": "7fefa4a4",
   "metadata": {},
   "outputs": [],
   "source": [
    "# 質問：2回目\n",
    "response = chat_engine.chat(\"勤続年数が5年の場合は何日ですか？\")\n",
    "\n",
    "# 言語モデルからの回答を表示\n",
    "print(response)\n",
    "\n",
    "# 引用元を表示\n",
    "for source in response.sources:\n",
    "    for source_node in source.raw_output.source_nodes:\n",
    "        print(\"ファイル名：\", source_node.metadata[\"file_name\"])\n",
    "        print(\"関連度スコア:\", source_node.score)\n",
    "        print(\"テキスト：\")\n",
    "        print(source_node.node.text)\n",
    "        print(\"-\" * 50)  # 区切り線"
   ]
  }
 ],
 "metadata": {
  "language_info": {
   "name": "python"
  }
 },
 "nbformat": 4,
 "nbformat_minor": 5
}
