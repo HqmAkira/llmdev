{
 "cells": [
  {
   "cell_type": "code",
   "execution_count": null,
   "id": "8e2a780c",
   "metadata": {},
   "outputs": [],
   "source": [
    "# 必要なモジュールをインポート\n",
    "import os\n",
    "from dotenv import load_dotenv\n",
    "from llama_index.core import VectorStoreIndex, SimpleDirectoryReader\n",
    "from llama_index.llms.openai import OpenAI\n",
    "\n",
    "# 環境変数の取得\n",
    "load_dotenv(\"../.env\")\n",
    "os.environ['OPENAI_API_KEY']  = os.environ['API_KEY']\n",
    "\n",
    "# モデル名\n",
    "MODEL_NAME = \"gpt-4o-mini\""
   ]
  },
  {
   "cell_type": "code",
   "execution_count": null,
   "id": "80c44899",
   "metadata": {},
   "outputs": [],
   "source": [
    "# PDFドキュメントの読込\n",
    "documents = SimpleDirectoryReader('./data/pdf').load_data()"
   ]
  },
  {
   "cell_type": "code",
   "execution_count": null,
   "id": "6f62ae32",
   "metadata": {},
   "outputs": [],
   "source": [
    "from llama_index.core.text_splitter import SentenceSplitter\n",
    "from llama_index.core import Settings\n",
    "import tiktoken\n",
    "\n",
    "# NodeParserの作成\n",
    "node_parser = SentenceSplitter(\n",
    "    separator=\"。\",\n",
    "    chunk_size=256,\n",
    "    chunk_overlap=16,\n",
    "    tokenizer=tiktoken.encoding_for_model(MODEL_NAME).encode)\n",
    "\n",
    "# 言語モデルの指定\n",
    "llm = OpenAI(model=MODEL_NAME, temperature=0.3)\n",
    "\n",
    "# 設定に反映\n",
    "Settings.llm = llm\n",
    "Settings.node_parser = node_parser\n",
    "\n",
    "# Indexの構築\n",
    "index = VectorStoreIndex.from_documents(documents)"
   ]
  },
  {
   "cell_type": "code",
   "execution_count": null,
   "id": "59c7f013",
   "metadata": {},
   "outputs": [],
   "source": [
    "from llama_index.core import StorageContext, load_index_from_storage\n",
    "\n",
    "# ストレージコンテキストの作成\n",
    "storage_context = StorageContext.from_defaults(persist_dir=\"./storage01\")\n",
    "# Indexのロード\n",
    "index = load_index_from_storage(storage_context)"
   ]
  },
  {
   "cell_type": "code",
   "execution_count": null,
   "id": "4c2a99a1",
   "metadata": {},
   "outputs": [],
   "source": [
    "sys_prompt_str = \"\"\"\n",
    "事前知識ではなく、常に提供されたコンテキスト情報を使用して質問に回答してください。\n",
    "回答内でコンテキストを直接参照しないでください。\n",
    "「コンテキストに基づいて」や「コンテキスト情報は」、またはそれに類するような記述は避けてください。\n",
    "\"\"\"\n",
    "\n",
    "qa_prompt_str = \"\"\"\n",
    "コンテキスト情報は以下の通りです。\n",
    "---------------------\n",
    "{context_str}\n",
    "---------------------\n",
    "事前知識ではなくコンテキスト情報を使用して、質問に回答してください。\n",
    "質問: {query_str}\n",
    "回答：\"\"\"\n",
    "\n",
    "refine_prompt_str = \"\"\"\n",
    "元の回答を (必要な場合のみ) 以下のコンテキストで改良する機会があります。\n",
    "-----------\n",
    "{context_msg}\n",
    "-----------\n",
    "新しいコンテキストが与えられた場合、元の回答を改良して、質問 {query_str} に適切に回答します。\n",
    "コンテキストが役に立たない場合は、元の回答を再度出力します。\n",
    "元の回答: {existing_answer}\"\"\""
   ]
  },
  {
   "cell_type": "code",
   "execution_count": null,
   "id": "6bc2e210",
   "metadata": {},
   "outputs": [],
   "source": [
    "from llama_index.core.llms import ChatMessage, MessageRole\n",
    "from llama_index.core import ChatPromptTemplate\n",
    "\n",
    "# テキストQAテンプレートの作成\n",
    "chat_text_qa_msgs = [\n",
    "    ChatMessage(\n",
    "        role=MessageRole.SYSTEM,\n",
    "        content=sys_prompt_str),\n",
    "    ChatMessage(\n",
    "        role=MessageRole.USER,\n",
    "        content=qa_prompt_str),\n",
    "]\n",
    "text_qa_template = ChatPromptTemplate(chat_text_qa_msgs)\n",
    "\n",
    "# リファインテンプレートの作成\n",
    "chat_refine_msgs = [\n",
    "    ChatMessage(\n",
    "        role=MessageRole.SYSTEM,\n",
    "        content=sys_prompt_str),\n",
    "    ChatMessage(\n",
    "        role=MessageRole.USER,\n",
    "        content=refine_prompt_str),\n",
    "]\n",
    "refine_template = ChatPromptTemplate(chat_refine_msgs)"
   ]
  },
  {
   "cell_type": "code",
   "execution_count": null,
   "id": "e9843ce0",
   "metadata": {},
   "outputs": [],
   "source": [
    "# Chat Engineの作成\n",
    "chat_engine = index.as_chat_engine(\n",
    "    chat_mode=\"openai\",\n",
    "    llm=llm,\n",
    "    similarity_top_k=3,\n",
    "    text_qa_template=text_qa_template,\n",
    "    refine_template=refine_template,\n",
    ")"
   ]
  },
  {
   "cell_type": "code",
   "execution_count": null,
   "id": "80e6975f",
   "metadata": {},
   "outputs": [],
   "source": [
    "# 質問：1回目\n",
    "response = chat_engine.stream_chat(\"公共交通機関の交通費の上限は？\")\n",
    "\n",
    "for token in response.response_gen:\n",
    "    print(token, end=\"\")\n",
    "\n",
    "# 引用元を表示\n",
    "for source in response.sources:\n",
    "    for source_node in source.raw_output.source_nodes:\n",
    "        print(\"ファイル名：\", source_node.metadata[\"file_name\"])\n",
    "        print(\"関連度スコア:\", source_node.score)\n",
    "        print(\"テキスト：\")\n",
    "        print(source_node.node.text)\n",
    "        print(\"-\" * 50)  # 区切り線"
   ]
  },
  {
   "cell_type": "code",
   "execution_count": null,
   "id": "2acf508c",
   "metadata": {},
   "outputs": [],
   "source": [
    "# 質問：2回目\n",
    "response = chat_engine.stream_chat(\"交通費以外の手当にはどのようなものがありますか？\")\n",
    "\n",
    "for token in response.response_gen:\n",
    "    print(token, end=\"\")\n",
    "\n",
    "# 引用元を表示\n",
    "for source in response.sources:\n",
    "    for source_node in source.raw_output.source_nodes:\n",
    "        print(\"ファイル名：\", source_node.metadata[\"file_name\"])\n",
    "        print(\"関連度スコア:\", source_node.score)\n",
    "        print(\"テキスト：\")\n",
    "        print(source_node.node.text)\n",
    "        print(\"-\" * 50)  # 区切り線"
   ]
  }
 ],
 "metadata": {
  "language_info": {
   "name": "python"
  }
 },
 "nbformat": 4,
 "nbformat_minor": 5
}
