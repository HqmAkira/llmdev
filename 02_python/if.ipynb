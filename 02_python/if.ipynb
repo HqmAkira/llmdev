{
 "cells": [
  {
   "cell_type": "code",
   "execution_count": 1,
   "id": "f7ed1ce3",
   "metadata": {},
   "outputs": [
    {
     "name": "stdout",
     "output_type": "stream",
     "text": [
      "合格です\n",
      "処理を終了します\n"
     ]
    }
   ],
   "source": [
    "score = int(input(\"点数を入力してください: \"))\n",
    "\n",
    "if score >= 60:\n",
    "    print(\"合格です\")\n",
    "\n",
    "print(\"処理を終了します\")"
   ]
  }
 ],
 "metadata": {
  "kernelspec": {
   "display_name": ".venv (3.12.10)",
   "language": "python",
   "name": "python3"
  },
  "language_info": {
   "codemirror_mode": {
    "name": "ipython",
    "version": 3
   },
   "file_extension": ".py",
   "mimetype": "text/x-python",
   "name": "python",
   "nbconvert_exporter": "python",
   "pygments_lexer": "ipython3",
   "version": "3.12.10"
  }
 },
 "nbformat": 4,
 "nbformat_minor": 5
}
