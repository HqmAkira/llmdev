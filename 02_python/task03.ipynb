{
 "cells": [
  {
   "cell_type": "code",
   "execution_count": 8,
   "id": "4280d186",
   "metadata": {},
   "outputs": [
    {
     "name": "stdout",
     "output_type": "stream",
     "text": [
      "元金（初期投資額）:  1000\n",
      "年利（パーセンテージ）:  5\n",
      "10 年後の投資額は 1628.89 円です。\n"
     ]
    }
   ],
   "source": [
    "principal = int(input(\"元金（初期投資額）を入力してください: \"))\n",
    "print(\"元金（初期投資額）: \", principal)\n",
    "interest = int(input(\"年利（パーセンテージ）を入力してください: \"))\n",
    "print(\"年利（パーセンテージ）: \", interest)\n",
    "\n",
    "i = 0\n",
    "amount = principal\n",
    "while True:\n",
    "    if i > 9: # 10年間\n",
    "        break\n",
    "    amount = amount * (1 + interest / 100)\n",
    "    i += 1\n",
    "print(f\"{i} 年後の投資額は {amount:.2f} 円です。\")\n"
   ]
  }
 ],
 "metadata": {
  "kernelspec": {
   "display_name": ".venv (3.12.10)",
   "language": "python",
   "name": "python3"
  },
  "language_info": {
   "codemirror_mode": {
    "name": "ipython",
    "version": 3
   },
   "file_extension": ".py",
   "mimetype": "text/x-python",
   "name": "python",
   "nbconvert_exporter": "python",
   "pygments_lexer": "ipython3",
   "version": "3.12.10"
  }
 },
 "nbformat": 4,
 "nbformat_minor": 5
}
