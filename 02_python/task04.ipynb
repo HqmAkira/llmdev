{
 "cells": [
  {
   "cell_type": "code",
   "execution_count": null,
   "id": "bfa919e5",
   "metadata": {},
   "outputs": [
    {
     "name": "stdout",
     "output_type": "stream",
     "text": [
      "数値２つを割り算するプログラム\n",
      "1つ目の整数: 100\n",
      "エラー: 数値を入力してください\n",
      "プログラム終了\n"
     ]
    }
   ],
   "source": [
    "print(\"数値２つを割り算するプログラム\")\n",
    "\n",
    "try:\n",
    "    num1 = int(input(\"1つ目の整数を入力してください: \"))\n",
    "    print(\"1つ目の整数:\", num1)\n",
    "    num2 = int(input(\"2つ目の整数を入力してください: \"))\n",
    "    print(\"2つ目の整数:\", num2)\n",
    "    result = num1 / num2\n",
    "except ZeroDivisionError:\n",
    "    print(\"エラー: 0で割ることはできません\")\n",
    "except ValueError:\n",
    "    print(\"エラー: 数値を入力してください\")\n",
    "else:\n",
    "    print(f\"計算結果: {result:.1f}\")\n",
    "finally:\n",
    "    print(\"プログラム終了\")\n"
   ]
  }
 ],
 "metadata": {
  "kernelspec": {
   "display_name": ".venv (3.12.10)",
   "language": "python",
   "name": "python3"
  },
  "language_info": {
   "codemirror_mode": {
    "name": "ipython",
    "version": 3
   },
   "file_extension": ".py",
   "mimetype": "text/x-python",
   "name": "python",
   "nbconvert_exporter": "python",
   "pygments_lexer": "ipython3",
   "version": "3.12.10"
  }
 },
 "nbformat": 4,
 "nbformat_minor": 5
}
