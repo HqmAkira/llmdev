{
 "cells": [
  {
   "cell_type": "code",
   "execution_count": 1,
   "id": "c5005a5b",
   "metadata": {},
   "outputs": [],
   "source": [
    "class BankAccount:\n",
    "    def __init__(self, balance=0):\n",
    "        self.balance = balance\n",
    "\n",
    "    def deposit(self, amount):\n",
    "        if amount < 0: # 金額が0より小さい場合\n",
    "            print(f\"エラー: 正しい金額を入力してください\")\n",
    "        else:\n",
    "            self.balance += amount\n",
    "            print(f\"{amount}を預け入れました。\")\n",
    "\n",
    "    def withdraw(self, amount):\n",
    "        if 0 < amount <= self.balance:\n",
    "            self.balance -= amount\n",
    "            print(f\"{amount}を引き出しました。\")\n",
    "        else: # 残高不足や0以下の金額を指定した場合\n",
    "            print(\"エラー: 残高不足または無効な金額です\")\n",
    "\n",
    "    def get_balance(self):\n",
    "        return self.balance"
   ]
  },
  {
   "cell_type": "code",
   "execution_count": null,
   "id": "da5fdbb6",
   "metadata": {},
   "outputs": [],
   "source": [
    "bank_account = BankAccount(1000) # 初期残高1000円のアカウント\n",
    "bank_account.deposit(500)  # 500円を預け入れ\n",
    "bank_account.withdraw(200)  # 200円を引き出し\n",
    "print(f\"現在の残高: {bank_account.get_balance()}\")  # 現在の残高を表示\n",
    "bank_account.withdraw(1500)  # 1500円を引き出そうとする（エラー: 残高不足または無効な金額です。）\n",
    "bank_account.deposit(-500)# 預け入れ時に無効な金額（-500など）を指定した場合\n"
   ]
  }
 ],
 "metadata": {
  "kernelspec": {
   "display_name": ".venv (3.12.10)",
   "language": "python",
   "name": "python3"
  },
  "language_info": {
   "codemirror_mode": {
    "name": "ipython",
    "version": 3
   },
   "file_extension": ".py",
   "mimetype": "text/x-python",
   "name": "python",
   "nbconvert_exporter": "python",
   "pygments_lexer": "ipython3",
   "version": "3.12.10"
  }
 },
 "nbformat": 4,
 "nbformat_minor": 5
}
