{
 "cells": [
  {
   "cell_type": "code",
   "execution_count": 16,
   "id": "2bb9f567",
   "metadata": {},
   "outputs": [],
   "source": [
    "def save_content_to_file(data, filename):\n",
    "    # ファイルに書き込む\n",
    "    with open(filename, 'w') as file:\n",
    "        file.write(data)"
   ]
  },
  {
   "cell_type": "code",
   "execution_count": 17,
   "id": "1d6517d5",
   "metadata": {},
   "outputs": [],
   "source": [
    "import datetime\n",
    "import urllib.request\n",
    "\n",
    "def save_url_content(url):\n",
    "    response = urllib.request.urlopen(url)\n",
    "\n",
    "    # HTMLデータを読み込み、UTF-8文字列にデコード\n",
    "    html = response.read().decode(\"utf-8\")\n",
    "    content = html[:500]\n",
    "    print(content)  # 取得したHTMLの先頭500文字を表示\n",
    "\n",
    "    now = datetime.datetime.now()\n",
    "    file_name = now.strftime(\"%Y%m%d_%H%M%S\") + \".txt\"\n",
    "    save_content_to_file(content, file_name)\n",
    "\n",
    "    return file_name"
   ]
  },
  {
   "cell_type": "code",
   "execution_count": 18,
   "id": "d2bffd1d",
   "metadata": {},
   "outputs": [
    {
     "name": "stdout",
     "output_type": "stream",
     "text": [
      "<!DOCTYPE html><html  lang=\"ja\" data-theme=\"techacademy\" data-capo=\"\"><head><meta charset=\"utf-8\">\n",
      "<meta name=\"viewport\" content=\"width=device-width, initial-scale=1\">\n",
      "<title>プログラミングスクール | 受講者数No.1のテックアカデミー</title>\n",
      "<link rel=\"preconnect\" href=\"https://fonts.googleapis.com\">\n",
      "<link rel=\"preconnect\" href=\"https://fonts.gstatic.com\" crossorigin>\n",
      "<script src=\"https://www.googletagmanager.com/gtag/js?id=AW-1006744060\" async data-hid=\"92ebc66\"></script>\n",
      "<script src=\"//static.criteo.net/js/ld/ld.js\" asy\n",
      "Content saved in: 20250813_152801.txt\n"
     ]
    }
   ],
   "source": [
    "# url = input(\"URLを入力してください: \")\n",
    "url = \"https://techacademy.jp\"\n",
    "file_name = save_url_content(url)\n",
    "print(f\"Content saved in: {file_name}\")"
   ]
  }
 ],
 "metadata": {
  "kernelspec": {
   "display_name": ".venv (3.12.10)",
   "language": "python",
   "name": "python3"
  },
  "language_info": {
   "codemirror_mode": {
    "name": "ipython",
    "version": 3
   },
   "file_extension": ".py",
   "mimetype": "text/x-python",
   "name": "python",
   "nbconvert_exporter": "python",
   "pygments_lexer": "ipython3",
   "version": "3.12.10"
  }
 },
 "nbformat": 4,
 "nbformat_minor": 5
}
