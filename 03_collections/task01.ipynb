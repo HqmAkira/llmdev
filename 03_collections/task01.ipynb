{
 "cells": [
  {
   "cell_type": "code",
   "execution_count": null,
   "id": "a6a8b2fc",
   "metadata": {},
   "outputs": [
    {
     "name": "stdout",
     "output_type": "stream",
     "text": [
      "平均点: 80.0\n",
      "最高点: 90\n",
      "最低点: 70\n",
      "平均以上の学生数: 2\n"
     ]
    }
   ],
   "source": [
    "# 成績リストのセットアップ\n",
    "## grades = [85, 90, 78, 92, 88]\n",
    "grades = [70, 75, 80, 85, 90]\n",
    "\n",
    "average_grade = sum(grades) / len(grades)\n",
    "print(f\"平均点: {average_grade:.1f}\")\n",
    "\n",
    "max_grade = max(grades)\n",
    "print(f\"最高点: {max_grade}\")\n",
    "\n",
    "min_grade = min(grades)\n",
    "print(f\"最低点: {min_grade}\")\n",
    "\n",
    "count_above_average = sum(1 for grade in grades if grade > average_grade)\n",
    "print(f\"平均以上の学生数: {count_above_average}\")"
   ]
  }
 ],
 "metadata": {
  "kernelspec": {
   "display_name": ".venv (3.12.10)",
   "language": "python",
   "name": "python3"
  },
  "language_info": {
   "codemirror_mode": {
    "name": "ipython",
    "version": 3
   },
   "file_extension": ".py",
   "mimetype": "text/x-python",
   "name": "python",
   "nbconvert_exporter": "python",
   "pygments_lexer": "ipython3",
   "version": "3.12.10"
  }
 },
 "nbformat": 4,
 "nbformat_minor": 5
}
