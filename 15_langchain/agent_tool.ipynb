{
 "cells": [
  {
   "cell_type": "code",
   "execution_count": 1,
   "id": "0ed2681b",
   "metadata": {},
   "outputs": [],
   "source": [
    "# 必要なモジュールをインポート\n",
    "import os\n",
    "from dotenv import load_dotenv\n",
    "from langchain_openai import ChatOpenAI\n",
    "\n",
    "# 環境変数の読み込み\n",
    "load_dotenv(\"../.env\")\n",
    "os.environ['OPENAI_API_KEY'] = os.environ['API_KEY']\n",
    "\n",
    "# モデル名\n",
    "MODEL_NAME = \"gpt-4o-mini\""
   ]
  },
  {
   "cell_type": "code",
   "execution_count": 2,
   "id": "f252970b",
   "metadata": {},
   "outputs": [],
   "source": [
    "# 検索ツールの定義\n",
    "from langchain_community.tools.tavily_search import TavilySearchResults\n",
    "\n",
    "tool = TavilySearchResults(max_results=2)\n",
    "tools = [tool]"
   ]
  },
  {
   "cell_type": "code",
   "execution_count": 3,
   "id": "eb2db7dd",
   "metadata": {},
   "outputs": [
    {
     "data": {
      "text/plain": [
       "[{'url': 'https://zenn.dev/pharmax/articles/8796b892eed183',\n",
       "  'content': 'Nodeは、Graph上で実際のステップを実行するコンポーネントです。例えば実際にLangChainを使用してLLMのモデルを呼び出す処理は、Node上で行います。\\n\\nNodeでは、`(State、Config) -> 変更するState`というシグネチャを持つ関数を使うことができます。 [...] | コンポーネント | 説明 |\\n| --- | --- |\\n| Graph | LangGraphの中核となる構成要素で、各NodeとEdgeの集合体です。 |\\n| State | ノード間の遷移の際に保持される情報で、各ノードが参照および更新します。 |\\n| Node | グラフ内の個々のステップや状態を表す要素で、特定のアクションやチェックポイントとして機能します。 |\\n| Edge | ノード間の接続を表し、遷移の条件やアクションを定義します。条件付きエッジなど、特定のロジックに基づいて遷移を制御できます。 |\\n\\n## Graph\\n\\nGraphは、LangGraphの中核となるグラフ全体を管理するためのコンポーネントです。基本的な使い方としては、`StateGraph`というクラスを使い、後述するStateとセットで初期化します。\\n\\n`StateGraph`\\n\\n（StateGraphの宣言例）'},\n",
       " {'url': 'https://qiita.com/KUROMAGOORO/items/b37c28dbddee4314153e',\n",
       "  'content': '| LangGraph の要素 | 説明 |\\n| --- | --- |\\n| State | 会話履歴や処理結果などを保持し、ノード間で共有・更新出来る。これにより、長い対話や複数ステップの処理が安定して行える。 |\\n| Node | 実際の処理を行う関数やエージェント。Stateを参照・更新出来る |\\n| Edge | ノード間の接続。「あらかじめ定義したノードに遷移」「条件に応じて次のノードを選択」「一定条件で繰り返す」など柔軟なノード遷移の設定が可能。Edge を定義せず LangGraph の goto の関数でも遷移可能 |\\n| Graph | Node と Edge で構成される全体の処理フロー |\\n\\n# 例として以下のようなフローを考える\\n\\n## 機能\\n\\n## ツール\\n\\n## シングルエージェントにツールを持たせた時のイメージ\\n\\nimage.png\\n\\nimage.png\\n\\n### プロンプトの例'}]"
      ]
     },
     "execution_count": 3,
     "metadata": {},
     "output_type": "execute_result"
    }
   ],
   "source": [
    "tool.invoke(\"Langgraphのノードとは？\")"
   ]
  },
  {
   "cell_type": "code",
   "execution_count": 4,
   "id": "b4bec138",
   "metadata": {},
   "outputs": [
    {
     "data": {
      "text/plain": [
       "<langgraph.graph.state.StateGraph at 0x12582a5a0>"
      ]
     },
     "execution_count": 4,
     "metadata": {},
     "output_type": "execute_result"
    }
   ],
   "source": [
    "from typing import Annotated\n",
    "from typing_extensions import TypedDict\n",
    "from langgraph.graph import StateGraph\n",
    "from langgraph.graph.message import add_messages\n",
    "\n",
    "# Stateクラスの定義\n",
    "class State(TypedDict):\n",
    "    messages: Annotated[list, add_messages]\n",
    "\n",
    "# グラフのインスタンスを作成\n",
    "graph_builder = StateGraph(State)\n",
    "\n",
    "# 言語モデルの定義\n",
    "llm = ChatOpenAI(model_name=MODEL_NAME)\n",
    "\n",
    "# 変更点：ツール定義の紐づけ\n",
    "llm_with_tools = llm.bind_tools(tools)\n",
    "\n",
    "# チャットボットノードの作成\n",
    "def chatbot(state: State):\n",
    "    return {\"messages\": [llm_with_tools.invoke(state[\"messages\"])]}\n",
    "\n",
    "# グラフにチャットボットノードを追加\n",
    "graph_builder.add_node(\"chatbot\", chatbot)"
   ]
  },
  {
   "cell_type": "code",
   "execution_count": 5,
   "id": "5c86eae1",
   "metadata": {},
   "outputs": [],
   "source": [
    "from langgraph.prebuilt import ToolNode, tools_condition\n",
    "from langgraph.checkpoint.memory import MemorySaver\n",
    "\n",
    "# ツールノードの作成\n",
    "tool_node = ToolNode(tools)\n",
    "\n",
    "# グラフにツールノードを追加\n",
    "graph_builder.add_node(\"tools\", tool_node)\n",
    "\n",
    "# 条件付エッジの作成\n",
    "graph_builder.add_conditional_edges(\n",
    "    \"chatbot\",\n",
    "    tools_condition, # ツール呼出と判断したらツールノードを呼ぶ\n",
    ")\n",
    "\n",
    "# ツールが呼び出されるたびに、チャットボットに戻って次のステップを決定\n",
    "# ツールからチャットボットへの戻りエッジを作成\n",
    "graph_builder.add_edge(\"tools\", \"chatbot\")\n",
    "\n",
    "# 開始ノードの指定\n",
    "graph_builder.set_entry_point(\"chatbot\")\n",
    "\n",
    "# 記憶を持つ実行可能なステートグラフの作成\n",
    "memory = MemorySaver()\n",
    "graph = graph_builder.compile(checkpointer=memory)"
   ]
  },
  {
   "cell_type": "code",
   "execution_count": 6,
   "id": "a6efeaea",
   "metadata": {},
   "outputs": [
    {
     "name": "stdout",
     "output_type": "stream",
     "text": [
      "こんにちは！\n",
      "こんにちは！どうかされましたか？何かお手伝いできることがあれば教えてください。\n",
      "1足す2は？\n",
      "1足す2は3です。何か他にお手伝いできることはありますか？\n",
      "1メートル以上の魚は？\n",
      "\n",
      "[{\"url\": \"https://tsurihack.com/8448\", \"content\": \"お住まいの地域にこれからリストアップする魚が生息していたら、狙ってみてはいかがでしょうか。\\n\\n## 鯉｜もっとも手軽で簡単な大物\\n\\n難易度：★☆☆｜平均70cm、1m超えれば超絶レア  \\n魚釣り初心者の方にオススメしたいのは食パンを使ったコイ釣りです！\\n\\n安・近・短で手軽に釣ることができ、ボウズ（釣果ゼロ）で終わってしまうリスクも少ないのがパンコイゲームの魅力ですね。\\n\\n▼食パンを使ったコイの釣り方はこちら！\\n\\n針と餌だけのカンタン仕掛けで巨大魚が釣れる！？“パン鯉”に子供と挑戦してみました\\n\\n釣り好き！まっちゃん\\n\\n### 1mを超えるコイは超絶レアですよ！\\n\\n身近な川魚のコイといえども最大サイズは1ｍを優に超え、コイを専門に狙う釣り人にとってメーター超えの巨鯉は一生に1匹でも良いから釣ってみたい憧れのサイズです。\\n\\nメーターオーバーのコイは幻級の魚ですが、90cm前後までのコイは都市型河川でもよく見かけますので、パンコイゲームを楽しみに行かれる際は、メジャーも一緒に持って行ってみてはいかがでしょうか。\\n\\nダイワ \\n\\nフィッシングメジャーR 150cm\\n\\nこの商品を見る [...] 釣り方は練餌を使ったヘラブナ釣りを大がかりにしたような釣りになるため、ウキ釣りの経験がある方なら比較的簡単に感じるかもしれませんが、魚釣り初心者の方には少しハードルの上がる釣りと言えるでしょう。\\n\\n巨体に見合わない小さなアタリをヘラブナ用の棒ウキを使ってアワセていくのが醍醐味。掛かったらズシッっと1m級の魚の重みが竿にのしかかってきますよ！\\n\\n▼初心者でもトライできるブッコミ釣りスタイルで狙ったハクレン釣り\\n\\n関東の怪魚“ハクレン”を発泡スチロールで釣る！\\n\\n山根央之\\n\\n## ソウギョ｜全国各地で狙えるメーターオーバー\\n\\n難易度：★★☆｜平均1m\\n\\n日本各地の池や沼・川や水路には、水草の除草目的で放たれたソウギョという大型魚が棲んでいることがあります。\\n\\n放流されてから時間が経っている場所では、120~130cmまで成長しているものも珍しくなく、20kgを超える大魚と日本の川で戦うことができるんです。\\n\\n専門に狙う場合は葦の葉を使った草針釣法になりますが、パンコイと同様に食パンを浮かべても釣ることができるため、釣り方自体の難易度は低めです。 [...] しっかり血抜きを行えば夏ウツボも美味しくいただけますので、興味のある方はぜひ、食べるところまでチャレンジしてみてはいかがでしょうか。\\n\\n## オオウナギ｜沖縄に行ったら狙ってみてほしい\\n\\n難易度：★☆☆（沖縄限定）｜平均1m  \\nここで少し変化球的な魚種「オオウナギ」をご紹介。最大で1.8mにもなると言われるまさに巨大魚です。\\n\\n巨体をくねらした強烈な引き味は、一度体験する価値ありです。ヒットした大型のオオウナギが倒木や岩の隙間に潜ると釣り人の負け確定。GTロッドで引っ張ってもビクともしません（笑）\\n\\nそんなオオウナギですが、沖縄県で比較的簡単に釣ることができるんです。例えるなら、近所のナマズ釣りくらいの難易度です。\\n\\nちなみに、那覇市内の川でも1m越えのオオウナギを釣ることができるので、沖縄旅行に出かける機会がありましたら狙ってみてはいかがでしょうか。\\n\\n### ちなみに……オオウナギはあまり美味しくないんです\\n\\nウナギと聞けば美味しそうと感じるかもしれませんが、じつはオオウナギはあまり美味しくありません。\"}, {\"url\": \"https://www.zukan-bouz.com/syu/%E3%82%AA%E3%82%AA%E3%83%8B%E3%83%99\", \"content\": \"## 基本情報\\n\\n  宮城県でも見つかっているが、千葉県から九州までの暖かい海域で水揚げがある。古くは九州などが主な産地であったが、近年相模湾や駿河湾でもかなりの水揚げをみる。豊洲などの関東の市場でも標準和名のオオニベが定着している。  \\n  天然のほか、熊本県、宮崎県で「みなみすずき」という商品名で養殖していた。  \\n  １m以上になる大型魚でイヤミのない魚なので知名度はないものの、徐々に人気を得ている。  \\n  関東の市場でも普通になっていて、切り身などで小売店に並ぶこともある。  \\n  鮮度がいいと刺身にもなるが、安くておいしいのでフライや煮つけなどの総菜魚として利用価値が高い。  \\n  珍魚度 普通の食用魚である。ただし大型魚なので切身で売られていることが多い。丸のままの状態で手に入れるためには努力を要す。\\n\\n  ## 水産基本情報 [...] Jewfish   \\n  言語英語　場所オーストラリア\\n\\n  日本銀身   \\n  言語中国語　場所臺灣　備考台湾魚類資料庫\\n\\n  ## 学名\\n\\n  Argyrosomus japonicus (Temminck and Schlegel, 1844)\\n\\n  ## 漢字・学名由来\\n\\n  漢字 大鮸　Standard Japanese name / Oonibe  \\n  由来・語源 ニベ科で非常に大型になる。  \\n  〈ニベ科ニベ屬　オホニベ　……著しく大型となる。〉『日本産魚類検索』（岡田彌一郎、松原喜代松　三省堂　初版1938）  \\n  シーボルト、日本動物誌／ファウナ・ヤポニカ（Fauna Japonica ）  フィリップ・フランツ・フォン・シーボルトとその後継者、ハインリヒ・ビュルゲルなどが標本を持ち帰り、川原慶賀（江戸時代の長崎の絵師）が図を書いたもののひとつ。オランダライデン王立自然史博物館のシュレーゲルとテミンクが記載。\"}]\n",
      "1メートル以上の魚にはいくつかの種類があります。以下に代表的なものを紹介します。\n",
      "\n",
      "1. **鯉（コイ）**: 平均70cmですが、1mを超えるサイズは非常に珍しいです。近くの河川で釣ることができる魚で、初心者にもおすすめです。\n",
      "   [詳細はこちら](https://tsurihack.com/8448)\n",
      "\n",
      "2. **ソウギョ**: この魚は日本各地の池や川に生息しており、平均で1mに達します。最大では120〜130cmにも成長することがあります。\n",
      "   [詳細はこちら](https://tsurihack.com/8448)\n",
      "\n",
      "3. **オオウナギ**: 沖縄で狙うことができる魚で、最大1.8mにもなることがあります。特に沖縄の川での釣りは比較的容易です。\n",
      "   [詳細はこちら](https://tsurihack.com/8448)\n",
      "\n",
      "4. **オオニベ**: 1m以上になる大型魚で、刺身やフライとして食べることができます。最近では知名度が上がっています。\n",
      "   [詳細はこちら](https://www.zukan-bouz.com/syu/%E3%82%AA%E3%82%AA%E3%83%8B%E3%83%99)\n",
      "\n",
      "これらの魚は地域によって生息状況が異なるので、釣る際にはそれぞれの場所を調べてみると良いでしょう。興味があれば、さらに詳しい情報を提供できますので、教えてください！\n",
      "ありがとうございました!\n"
     ]
    }
   ],
   "source": [
    "# グラフの実行と結果の表示\n",
    "def stream_graph_updates(user_input: str):\n",
    "    events = graph.stream(\n",
    "        {\"messages\": [(\"user\", user_input)]},\n",
    "        {\"configurable\": {\"thread_id\": \"1\"}},\n",
    "        stream_mode=\"values\")\n",
    "    # 結果をストリーミングで得る\n",
    "    for event in events:\n",
    "        print(event[\"messages\"][-1].content, flush=True)\n",
    "\n",
    "# チャットボットのループ\n",
    "while True:\n",
    "    user_input = input(\"質問:\")\n",
    "    if user_input.strip()==\"\":\n",
    "        print(\"ありがとうございました!\")\n",
    "        break\n",
    "    stream_graph_updates(user_input)"
   ]
  }
 ],
 "metadata": {
  "kernelspec": {
   "display_name": ".venv (3.12.10)",
   "language": "python",
   "name": "python3"
  },
  "language_info": {
   "codemirror_mode": {
    "name": "ipython",
    "version": 3
   },
   "file_extension": ".py",
   "mimetype": "text/x-python",
   "name": "python",
   "nbconvert_exporter": "python",
   "pygments_lexer": "ipython3",
   "version": "3.12.10"
  }
 },
 "nbformat": 4,
 "nbformat_minor": 5
}
