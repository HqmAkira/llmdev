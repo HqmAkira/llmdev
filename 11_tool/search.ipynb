{
 "cells": [
  {
   "cell_type": "code",
   "execution_count": 47,
   "id": "b705832a",
   "metadata": {},
   "outputs": [],
   "source": [
    "# 必要なモジュールをインポート\n",
    "import os\n",
    "import json\n",
    "from dotenv import load_dotenv\n",
    "from openai import OpenAI\n",
    "from openai.types.chat import ChatCompletionToolParam\n",
    "from tavily import TavilyClient\n",
    "\n",
    "# 環境変数の取得\n",
    "load_dotenv(\"../.env\")\n",
    "\n",
    "# OpenAI APIクライアントを生成\n",
    "client = OpenAI(api_key=os.environ['API_KEY'])\n",
    "\n",
    "# tavily検索用APIキーの取得\n",
    "TAVILY_API_KEY = os.environ['TAVILY_API_KEY']\n",
    "\n",
    "# モデル名\n",
    "MODEL_NAME = \"gpt-4o-mini\""
   ]
  },
  {
   "cell_type": "code",
   "execution_count": 48,
   "id": "3fec0600",
   "metadata": {},
   "outputs": [
    {
     "data": {
      "text/plain": [
       "{'result': [{'url': 'https://www.walkerplus.com/event_list/ar0313/sc309880d/',\n",
       "   'title': '東京駅(東京都)周辺のイベント - ウォーカープラス',\n",
       "   'content': '開催中 2025年3月20日(祝)～6月3日(火) 京橋駅(東京都), 宝町駅(東京都), 日本橋駅(東京都), 銀座一丁目駅(東京都), 東京駅(東京都) CREATIVE MUSEUM TOKYO(クリエイティブ ミュージアム トウキョウ) *   [美術展・博物展](https://www.walkerplus.com/event_list/eg0107/) 開催中 2025年3月20日(祝)～6月3日(火) 京橋駅(東京都), 宝町駅(東京都), 日本橋駅(東京都), 銀座一丁目駅(東京都), 東京駅(東京都) CREATIVE MUSEUM TOKYO(クリエイティブ ミュージアム トウキョウ) *   [グルメ・フードフェス](https://www.walkerplus.com/event_list/eg0117/) *   ![Image 6](https://www.walkerplus.com/asset/images/common/ico_charge.svg) 終了間近 2025年4月1日(火)～5月31日(土) 東京駅(東京都), 二重橋前駅(東京都), 京橋駅(東京都), 大手町駅(東京都), 有楽町駅(東京都) *   [グルメ・フードフェス](https://www.walkerplus.com/event_list/eg0117/) *   ![Image 8](https://www.walkerplus.com/asset/images/common/ico_parking.svg) 2025年4月5日(土)～6月15日(日) 東京駅(東京都), 二重橋前駅(東京都), 大手町駅(東京都), 日本橋駅(東京都), 京橋駅(東京都) *   [美術展・博物展](https://www.walkerplus.com/event_list/eg0107/) 2025年3月1日(土)～6月1日(日) 京橋駅(東京都), 宝町駅(東京都), 日本橋駅(東京都), 東京駅(東京都), 銀座一丁目駅(東京都) *   [美術展・博物展](https://www.walkerplus.com/event_list/eg0107/) 開催中 2025年4月16日(水)～11月5日(水) 日本橋駅(東京都), 京橋駅(東京都), 茅場町駅(東京都), 宝町駅(東京都), 東京駅(東京都) *   [グルメ・フードフェス](https://www.walkerplus.com/event_list/eg0117/) *   ![Image 12](https://www.walkerplus.com/asset/images/common/ico_parking.svg) 2025年3月1日(土)～6月1日(日) 京橋駅(東京都), 宝町駅(東京都), 日本橋駅(東京都), 東京駅(東京都), 銀座一丁目駅(東京都) *   [美術展・博物展](https://www.walkerplus.com/event_list/eg0107/) 開催中 2025年5月1日(木)～6月30日(月) 東京駅(東京都), 日本橋駅(東京都), 大手町駅(東京都), 京橋駅(東京都), 三越前駅(東京都) *   [グルメ・フードフェス](https://www.walkerplus.com/event_list/eg0117/) *   ![Image 15](https://www.walkerplus.com/asset/images/common/ico_parking.svg) 2025年5月29日(木)～9月7日(日) *   [美術展・博物展](https://www.walkerplus.com/event_list/eg0107/) *   [映画イベント](https://www.walkerplus.com/event_list/eg0110/) *   [ライブ・音楽イベント](https://www.walkerplus.com/event_list/eg109/) *   ![Image 18](https://www.walkerplus.com/asset/images/common/ico_parking.svg) CREATIVE MUSEUM TOKYO(クリエイティブ ミュージアム トウキョウ) YEBISU BREWERY TOKYO(ヱビス ブルワリー トウキョウ) {{/ is_event }} {{# is_spot }} *    {{ name }} {{ pref_name }}{{ city_name }}',\n",
       "   'score': 0.8131201,\n",
       "   'raw_content': None},\n",
       "  {'url': 'https://www.enjoytokyo.jp/event/list/sta200101/its04/',\n",
       "   'title': '今日行ける！東京駅周辺のおすすめイベント',\n",
       "   'content': '東京都\\u3000千代田区 東京ビアホール＆ビアテラス14『TOKYO BEER WAVE』 東京ビアホール＆ビアテラス14『TOKYO BEER WAVE』 東京都\\u3000千代田区 2025/05/29(木) ～ 09/07(日) 東京都\\u3000文京区 伊勢丹 立川店：3/26〜4/15 国際フォーラム：7/14〜7/31 日本橋三越本店：8/6〜8/19 文京グリーンコート：9/1〜9/30 2025/06/13(金) ～ 06/26(木) ～ 2025/06/22(日) 2025/06/14(土) ～ 07/21(月・祝) ～ 2025/06/22(日) ～ 2025/06/22(日) 2025/05/27(火) ～ 09/23(火・祝) 東京都\\u3000港区 2025/05/12(月) ～ 09/07(日) 東京都\\u3000港区 2025/04/18(金) ～ 09/23(火・祝) 2025/01/18(土) ～ ※上映日・上映時間は公式ウェブサイトよりご確認ください。 東京都\\u3000武蔵野市 2025/06/21(土) ～ 08/17(日) 東京都\\u3000武蔵野市 2025/06/06(金) ～ 07/06(日) ※期間中の金曜日、土曜日、日曜日に開催 Lounge ＆ Dining G／東京マリオットホテル 東京都・品川駅 ／ テラスレストラン Cafe & Dining ZelkovA／ザ ストリングス 表参道 東京都・表参道駅 ／ テラスレストラン 東京都・渋谷駅 ／ テラスレストラン 東京都・吉祥寺駅 ／ テラスレストラン 東京都・渋谷駅 ／ テラスレストラン 東京都・六本木一丁目駅 ／ テラスレストラン 東京都・京橋駅 ／ テラスレストラン 東京都・渋谷駅 ／ テラスレストラン 東京都・銀座一丁目駅 ／ テラスレストラン 東京都・表参道駅 ／ テラスレストラン 347 CAFE ＆ LOUNGE 東京都・渋谷駅 ／ テラスレストラン 東京都・神保町駅 ／ テラスレストラン 東京都・渋谷駅 ／ テラスレストラン 神奈川県・みなとみらい駅 ／ テラスレストラン 神奈川県・横浜駅 ／ テラスレストラン 千葉県・船橋駅 ／ テラスレストラン',\n",
       "   'score': 0.7147281,\n",
       "   'raw_content': None},\n",
       "  {'url': 'https://www.enjoytokyo.jp/event/list/area1306/',\n",
       "   'title': \"東京駅周辺・丸の内でおすすめのイベント - Let's ENJOY TOKYO\",\n",
       "   'content': '～ 2025/06/01(日) 休館日：月曜日（5月5日は開館）、5月7日 ～ 2025/06/01(日) ～ 2025/06/01(日) 休館日：月曜日（5月5日は開館）、5月7日 ～ 2025/06/03(火) ～ 2025/06/03(火) ～ 2025/06/03(火) 2025/05/29(木) ～ 09/07(日) 伊勢丹 立川店：3/26〜4/15 国際フォーラム：7/14〜7/31 日本橋三越本店：8/6〜8/19 文京グリーンコート：9/1〜9/30 2025/05/21(水) ～ 06/30(月) 熊本が誇る旬の逸品“春スイカ”を首都圏で楽しめる「熊本 春スイカ フェスタ」が開催！ 2025/04/08(火) ～ 07/27(日) 休室日：月曜日、7月8日(火)～13日(日) 2025/05/19(月) ～ 06/08(日) ～ 2025/05/31(土) 2025/06/21(土) ～ 06/22(日) 2025/06/21(土) ～ 06/22(日) 2026/02/07(土) ～ 05/24(日) 休館日：2026/02/16(月)、03/16(月)、04/13(月)、05/11(月) 20世紀北欧デザインの巨匠 スティグ・リンドベリ展 2025/08/20(水) ～ 09/07(日) 20世紀北欧デザインの巨匠 スティグ・リンドベリ展 20世紀北欧デザインの巨匠 スティグ・リンドベリの作品約300点を展示！ 2025/07/26(土) ～ 08/15(金) 2025/06/06(金) ～ 07/06(日) 2025/06/14(土) ～ 07/21(月・祝) 2025/05/31(土) ～ 06/01(日) ～ 2025/05/31(土) 2025/05/13(火) ～ 07/06(日) 休館日は月曜日。開映日時は作品によって異なる。 天空茶会第二十四葉 特別セミナー世界の茶産地を訪ねて セミナー午前の部\\u3000ネパールとの出会い 天空茶会第二十四葉 特別セミナー世界の茶産地を訪ねて セミナー午前の部\\u3000ネパールとの出会い 2025/07/15(火) ～ 08/24(日) 休館日は月曜日。開映日時は作品によって異なる。 2025/07/18(金) ～ 10/05(日) ～ 2025/06/01(日) 2025/06/07(土) ～ 06/15(日) 2025/05/30(金) ～ 06/01(日) 2025/01/18(土) ～ ※上映日・上映時間は公式ウェブサイトよりご確認ください。 2025/05/16(金) ～ 06/29(日) 2025/05/24(土) ～ 06/16(月) Lounge ＆ Dining G／東京マリオットホテル Cafe & Dining ZelkovA／ザ ストリングス 表参道 347 CAFE ＆ LOUNGE',\n",
       "   'score': 0.70871735,\n",
       "   'raw_content': None},\n",
       "  {'url': 'https://iko-yo.net/events?tags%5B%5D=%E6%9D%B1%E4%BA%AC%E9%A7%85&term=6',\n",
       "   'title': '全国 東京駅の 子ども・親子おでかけ 明日のイベント情報 - いこーよ',\n",
       "   'content': '全国の東京駅に関する子どもとおでかけ 明日のイベント情報の一覧。全国の子ども向け・親子参加型の東京駅のイベント情報を探すなら子供とおでかけ情報いこーよで。',\n",
       "   'score': 0.5973971,\n",
       "   'raw_content': None},\n",
       "  {'url': 'https://marunouchi.jp-kitte.jp/event/eventnews.jsp',\n",
       "   'title': 'イベント＆ニュース｜KITTE丸の内 | JR・丸ノ内線 東京駅に ...',\n",
       "   'content': '#### 東京シティアイ 観光・ビジネス情報センター #### 東京中央郵便局/ ゆうちょ銀行 本店 郵便局/銀行 #### ＪＰタワー学術文化総合ミュージアム インターメディアテク 博物館 #### ＪＰタワー ホール&カンファレンス 多目的ホール #### 屋上庭園 「ＫＩＴＴＥガーデン」 #### 営業時間 #### 建築家 隈研吾さん インタビュー *   東京シティアイ (3) *   インターメディアテク (2) *   屋上庭園 (1) 東京シティアイ インターメディアテク 屋上庭園 東京シティアイ | 開催日時 | 2025年5月29日（木）～ 5月30日（金） 11:00～19:00 | | 場所 | ＫＩＴＴＥ 地下１Ｆ 東京シティアイ パフォーマンスゾーン | | 場所 | 1F アトリウム | 屋上庭園 東京シティアイ | 場所 | ＫＩＴＴＥ 地下１Ｆ 東京シティアイ パフォーマンスゾーン | | 開催日時 | 2025年4月1日（火）～2025年6月30日（月）11:00～15:00 | インターメディアテク インターメディアテク | 開催日時 | 毎月20日・21日・22日 | | 場所 | ４Ｆエポスカードセンター内 ポイント発券機 | 東京シティアイ *   東京シティアイ (3) *   インターメディアテク (2) *   屋上庭園 (1) フロア ガイド ギフト ガイド *   営業時間 *   建築家 隈研吾さんインタビュー *   東京シティアイ 観光・ビジネス情報センター *   東京中央郵便局/ゆうちょ銀行 本店 *   ＪＰタワー学術文化総合ミュージアム インターメディアテク *   ＪＰタワー ホール&カンファレンス イベントスペース&メディア',\n",
       "   'score': 0.56431514,\n",
       "   'raw_content': None}]}"
      ]
     },
     "execution_count": 48,
     "metadata": {},
     "output_type": "execute_result"
    }
   ],
   "source": [
    "# 検索結果を返す関数の作成\n",
    "def get_search_result(question):\n",
    "    client = TavilyClient(api_key=TAVILY_API_KEY)\n",
    "    response = client.search(question)\n",
    "    return json.dumps({\"result\": response[\"results\"]})\n",
    "\n",
    "# テスト用コード\n",
    "ret = get_search_result(\"東京駅のイベントを教えて\")\n",
    "json.loads(ret)"
   ]
  },
  {
   "cell_type": "code",
   "execution_count": 49,
   "id": "36c17ce4",
   "metadata": {},
   "outputs": [],
   "source": [
    "# ツール定義\n",
    "def define_tools():\n",
    "    return [\n",
    "        ChatCompletionToolParam({\n",
    "            \"type\": \"function\",\n",
    "            \"function\": {\n",
    "                \"name\": \"get_search_result\",\n",
    "                \"description\": \"指定した質問文の検索結果を取得する\",\n",
    "                \"parameters\": {\n",
    "                    \"type\": \"object\",\n",
    "                    \"properties\": {\n",
    "                        \"question\": {\"type\": \"string\", \"description\": \"質問文\"},\n",
    "                    },\n",
    "                    \"required\": [\"question\"],\n",
    "                },\n",
    "            },\n",
    "        })\n",
    "    ]"
   ]
  },
  {
   "cell_type": "code",
   "execution_count": null,
   "id": "d847539e",
   "metadata": {},
   "outputs": [],
   "source": [
    "def make_chat_messages(system, question):\n",
    "    if (system is None) or (system == \"\"):\n",
    "        return [{\"role\": \"user\", \"content\": question}]\n",
    "    return [\n",
    "        {\"role\": \"system\", \"content\": f\"あなたは{system}です。\"},\n",
    "        {\"role\": \"user\", \"content\": question}\n",
    "    ]"
   ]
  },
  {
   "cell_type": "code",
   "execution_count": 56,
   "id": "ca1a5192",
   "metadata": {},
   "outputs": [],
   "source": [
    "# 言語モデルへの質問を行う関数\n",
    "def ask_question(character, question, tools):\n",
    "    print(f\"メッセージ: {make_chat_messages(character, question)}\")\n",
    "    \n",
    "    response = client.chat.completions.create(\n",
    "        model=MODEL_NAME,\n",
    "        messages=make_chat_messages(character, question),\n",
    "        tools=tools,\n",
    "        tool_choice=\"auto\",\n",
    "    )\n",
    "    return response"
   ]
  },
  {
   "cell_type": "code",
   "execution_count": 57,
   "id": "6d6f8f74",
   "metadata": {},
   "outputs": [],
   "source": [
    "# ツール呼び出しが必要な場合の処理を行う関数\n",
    "def handle_tool_call(character, response, question):\n",
    "    # 関数の実行と結果取得\n",
    "    tool = response.choices[0].message.tool_calls[0]\n",
    "    function_name = tool.function.name\n",
    "    arguments = json.loads(tool.function.arguments)\n",
    "    function_response = globals()[function_name](**arguments)\n",
    "\n",
    "    # 関数の実行結果をmessagesに加えて再度言語モデルを呼出\n",
    "    response_after_tool_call = client.chat.completions.create(\n",
    "        model=MODEL_NAME,\n",
    "        messages=make_chat_messages(character, question) + [\n",
    "            response.choices[0].message,\n",
    "            {\n",
    "                \"tool_call_id\": tool.id,\n",
    "                \"role\": \"tool\",\n",
    "                \"content\": function_response,\n",
    "            },\n",
    "        ],\n",
    "    )\n",
    "    return response_after_tool_call"
   ]
  },
  {
   "cell_type": "code",
   "execution_count": 53,
   "id": "41fb8696",
   "metadata": {},
   "outputs": [],
   "source": [
    "# ユーザーからの質問を処理する関数\n",
    "def process_response(character, question, tools):\n",
    "    response = ask_question(character, question, tools)\n",
    "\n",
    "    if response.choices[0].finish_reason == 'tool_calls':\n",
    "        # ツール呼出の場合\n",
    "        final_response = handle_tool_call(character, response, question)\n",
    "        return final_response.choices[0].message.content.strip()\n",
    "    else:\n",
    "        # 言語モデルが直接回答する場合\n",
    "        return response.choices[0].message.content.strip()"
   ]
  },
  {
   "cell_type": "code",
   "execution_count": 54,
   "id": "df3f4555",
   "metadata": {},
   "outputs": [
    {
     "name": "stdout",
     "output_type": "stream",
     "text": [
      "東京都と沖縄県を面積で比較すると、沖縄県の方が広いです。\n",
      "\n",
      "具体的な面積は以下の通りです：\n",
      "- 沖縄県の面積は約2,281 km²です。\n",
      "- 東京都の面積は約2,194 km²です。\n",
      "\n",
      "したがって、沖縄県が東京都よりも広いということになります。\n"
     ]
    }
   ],
   "source": [
    "tools = define_tools()\n",
    "\n",
    "# 言語モデルが直接回答できる質問\n",
    "question = \"東京都と沖縄県はどちらが広いですか？\"\n",
    "response_message = process_response(\"\", question, tools)\n",
    "print(response_message)"
   ]
  },
  {
   "cell_type": "code",
   "execution_count": 58,
   "id": "9f54f7c1",
   "metadata": {},
   "outputs": [
    {
     "name": "stdout",
     "output_type": "stream",
     "text": [
      "メッセージ: [{'role': 'system', 'content': 'ねこ'}, {'role': 'user', 'content': '東京駅のイベントについて、最近1ヶ月以内の検索結果を教えてください'}]\n",
      "最近1ヶ月以内に東京駅で開催されるイベントについて、以下の情報があります。\n",
      "\n",
      "1. **[東京駅イベント一覧](https://bestcalendar.jp/events/%E6%9D%B1%E4%BA%AC%E9%A7%85)**\n",
      "   - 開催日: 8月7日からスタートするいくつかのイベント。\n",
      "   - 内容: 東京らしいドリンクを楽しめる青松酒蔵がオープンし、東京の新たなカラフルな飲食体験が提供されます。\n",
      "\n",
      "2. **[KITTEイベントカレンダー](https://marunouchi.jp-kitte.jp/event/calendar.jsp)**\n",
      "   - 期間: 2025年8月5日から8月31日までの間でイベントが行われます。\n",
      "   - 内容: 様々な展示やワークショップを含むイベントが開催されます。\n",
      "\n",
      "3. **[Walker+ - 東京のイベント情報](https://www.walkerplus.com/top/ar0313/)**\n",
      "   - 内容: 多様なイベントリストが紹介されています。画期的なアート展示や食品イベントなども計画されています。\n",
      "\n",
      "4. **[Enjoy Tokyo - 東京の楽しみ方](https://www.enjoytokyo.jp/event/list/)**\n",
      "   - 様々なジャンルのイベントが続々と開催される予定で、最新情報が更新されます。\n",
      "\n",
      "これらのイベントは、東京駅を含む東京エリアでの文化、アート、飲食など多岐にわたる楽しみ方を提供しています。詳細や日程はリンクを参照してください。\n"
     ]
    }
   ],
   "source": [
    "tools = define_tools()\n",
    "\n",
    "# ツール呼出が必要な質問\n",
    "question = \"東京駅のイベントについて、最近1ヶ月以内の検索結果を教えてください\"\n",
    "response_message = process_response(\"ねこ\", question, tools)\n",
    "print(response_message)"
   ]
  },
  {
   "cell_type": "code",
   "execution_count": 45,
   "id": "21e96b8e",
   "metadata": {},
   "outputs": [
    {
     "name": "stdout",
     "output_type": "stream",
     "text": [
      "機能番号を選択してください:\n",
      "1. キャラクターの設定（メッセージはクリアされます）\n",
      "2. 気まぐれな猫と対話\n"
     ]
    },
    {
     "data": {
      "text/plain": [
       "'質問:東北6県は？'"
      ]
     },
     "metadata": {},
     "output_type": "display_data"
    },
    {
     "name": "stdout",
     "output_type": "stream",
     "text": [
      "東北地方の6県は以下の通りです：\n",
      "\n",
      "1. 青森県\n",
      "2. 岩手県\n",
      "3. 宮城県\n",
      "4. 秋田県\n",
      "5. 山形県\n",
      "6. 福島県\n",
      "\n",
      "これらの県は日本の東北地域に位置しています。詳しく知りたい場合は、[こちらのリンク](https://ja.wikipedia.org/wiki/%E6%9D%B1%E5%8C%97%E5%9C%B0%E6%96%B9)をご覧ください。\n",
      "機能番号を選択してください:\n",
      "1. キャラクターの設定（メッセージはクリアされます）\n",
      "2. 気まぐれな猫と対話\n",
      "\n",
      "---ご利用ありがとうございました！---\n"
     ]
    }
   ],
   "source": [
    "# チャットボットへの組み込み\n",
    "tools = define_tools()\n",
    "\n",
    "messages=[]\n",
    "# システム設定\n",
    "character = \"気まぐれな猫\"\n",
    "\n",
    "while(True):\n",
    "    # ユーザーからの質問を受付\n",
    "    print(\"機能番号を選択してください:\")\n",
    "    print(\"1. キャラクターの設定（メッセージはクリアされます）\")\n",
    "    print(f\"2. {character}と対話\")\n",
    "\n",
    "    question = input(\"機能番号を入力:\")\n",
    "    # 質問が入力されなければ終了\n",
    "    if question.strip()==\"\":\n",
    "        break\n",
    "\n",
    "    elif question.strip() == \"1\":\n",
    "        # キャラクターの設定\n",
    "        character = input(\"キャラクターを設定してください:\")\n",
    "        print(f\"キャラクターが設定されました: {character}\")\n",
    "        continue\n",
    "\n",
    "    elif question.strip() == \"2\":\n",
    "        question = input(\"メッセージを入力:\")\n",
    "        display(f\"質問:{question}\")\n",
    "\n",
    "        # メッセージにユーザーからの質問を追加\n",
    "        messages.append({\"role\": \"user\", \"content\": question.strip()})\n",
    "        # やりとりが8を超えたら古いメッセージから削除\n",
    "        if len(messages) > 8:\n",
    "            # 先頭はシステム設定なので削除しない\n",
    "            del_message = messages.pop(1)\n",
    "\n",
    "        # 言語モデルに質問\n",
    "        response_message = process_response(character, question, tools)\n",
    "\n",
    "        # メッセージに言語モデルからの回答を追加\n",
    "        print(response_message, flush=True)\n",
    "        messages.append({\"role\": \"assistant\", \"content\": response_message})\n",
    "\n",
    "    else:\n",
    "        print(\"1か2かを入力するか、もしくはなにも入力しないでください。\")\n",
    "        continue\n",
    "\n",
    "print(\"\\n---ご利用ありがとうございました！---\")"
   ]
  }
 ],
 "metadata": {
  "kernelspec": {
   "display_name": ".venv (3.12.10)",
   "language": "python",
   "name": "python3"
  },
  "language_info": {
   "codemirror_mode": {
    "name": "ipython",
    "version": 3
   },
   "file_extension": ".py",
   "mimetype": "text/x-python",
   "name": "python",
   "nbconvert_exporter": "python",
   "pygments_lexer": "ipython3",
   "version": "3.12.10"
  }
 },
 "nbformat": 4,
 "nbformat_minor": 5
}
