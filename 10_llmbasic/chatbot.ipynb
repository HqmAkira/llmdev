{
 "cells": [
  {
   "cell_type": "code",
   "execution_count": 1,
   "id": "d43a9ae8",
   "metadata": {},
   "outputs": [
    {
     "data": {
      "text/plain": [
       "'質問:東京駅の遊び方を教えてください。'"
      ]
     },
     "metadata": {},
     "output_type": "display_data"
    },
    {
     "name": "stdout",
     "output_type": "stream",
     "text": [
      "東京駅は、日本の交通の中心地であり、観光名所やショッピング、飲食が楽しめるエリアです。以下は東京駅周辺の遊び方のいくつかを紹介します。\n",
      "\n",
      "### 1. ルミネ東京\n",
      "東京駅構内には「ルミネ東京」があり、ファッション、雑貨、飲食店が充実しています。ショッピングを楽しんだり、カフェでのんびり過ごすのも良いでしょう。\n",
      "\n",
      "### 2. グランスタ\n",
      "東京駅の地下には「グランスタ」という商業施設があります。ここでは様々なグルメやスイーツが楽しめるお店が立ち並んでいます。お土産探しや軽食にぴったりのスポットです。\n",
      "\n",
      "### 3. 日本橋\n",
      "東京駅から徒歩圏内にある日本橋エリアでは、歴史的な建物や和風のお店を散策することができます。美しい景色を楽しみながら、散策しましょう。\n",
      "\n",
      "### 4. 東京ステーションホテル\n",
      "東京駅直結の「東京ステーションホテル」は、歴史的な建物で、内装や庭も美しいです。ラウンジやレストランでの食事を楽しめます。\n",
      "\n",
      "### 5. 丸の内エリアの散策\n",
      "東京駅から徒歩5分ほどで丸の内エリアに到着します。オフィスビルやブランドショップ、高級レストランが立ち並び、買い物や食事を楽しむことができます。\n",
      "\n",
      "### 6. 皇居周辺\n",
      "東京駅からアクセスの良い皇居は、広大な庭園や美しい景観が魅力です。散策やジョギングも楽しめ、歴史を感じることができます。\n",
      "\n",
      "### 7. 観光スポットの利用\n",
      "- **感謝の気持ちを伝える風景画**：駅舎内にある壁画を楽しむことができます。\n",
      "- **丸の内仲通り**：季節ごとのイルミネーションやイベントを楽しむことができるエリアです。\n",
      "\n",
      "### 8. 鉄道模型やシミュレーター\n",
      "「トレインデポ」など、鉄道ファン向けのスポットもあります。鉄道の模型を見たり、シミュレーターも体験可能です。\n",
      "\n",
      "### 9. エンターテインメント\n",
      "周辺には映画館やギャラリーもあり、映画を観ることやアートを楽しむこともできます。\n",
      "\n",
      "### 10. 食事\n",
      "駅周辺には有名な飲食店がたくさんあります。ラーメン、寿司、和食、洋食など、さまざまな料理を楽しむことができます。\n",
      "\n",
      "東京駅を拠点に様々なアクティビティを楽しんでください！\n",
      "---ご利用ありがとうございました！---\n"
     ]
    }
   ],
   "source": [
    "# 必要なモジュールをインポート\n",
    "import os\n",
    "from dotenv import load_dotenv\n",
    "from openai import OpenAI\n",
    "from pprint import pprint\n",
    "\n",
    "# 環境変数の取得\n",
    "load_dotenv(\"../.env\")\n",
    "\n",
    "# OpenAI APIクライアントを生成\n",
    "client = OpenAI(api_key=os.environ['API_KEY'])\n",
    "\n",
    "# モデル名\n",
    "MODEL_NAME = \"gpt-4o-mini\"\n",
    "\n",
    "# メッセージを格納するリスト\n",
    "messages=[]\n",
    "\n",
    "while(True):\n",
    "    # ユーザーからの質問を受付\n",
    "    message = input(\"メッセージを入力:\")\n",
    "    # 質問が入力されなければ終了\n",
    "    if message.strip()==\"\":\n",
    "        break\n",
    "    display(f\"質問:{message}\")\n",
    "\n",
    "    # メッセージにユーザーからの質問を追加\n",
    "    messages.append({\"role\": \"user\", \"content\": message.strip()})\n",
    "    # やりとりが8を超えたら古いメッセージから削除\n",
    "    if len(messages) > 8:\n",
    "        del_message = messages.pop(0)\n",
    "\n",
    "    # APIへリクエスト\n",
    "    stream = client.chat.completions.create(\n",
    "        model=MODEL_NAME,\n",
    "        messages=messages,\n",
    "        stream=True,\n",
    "    )\n",
    "\n",
    "    # 言語モデルからの回答を表示\n",
    "    response_message = \"\"\n",
    "    for chunk in stream:\n",
    "        if chunk.choices:\n",
    "            next = chunk.choices[0].delta.content\n",
    "            if next is not None:\n",
    "                response_message += next\n",
    "                print(next, end='', flush=True)\n",
    "\n",
    "    # メッセージに言語モデルからの回答を追加\n",
    "    messages.append({\"role\": \"assistant\", \"content\": response_message})\n",
    "\n",
    "print(\"\\n---ご利用ありがとうございました！---\")"
   ]
  }
 ],
 "metadata": {
  "kernelspec": {
   "display_name": ".venv (3.12.10)",
   "language": "python",
   "name": "python3"
  },
  "language_info": {
   "codemirror_mode": {
    "name": "ipython",
    "version": 3
   },
   "file_extension": ".py",
   "mimetype": "text/x-python",
   "name": "python",
   "nbconvert_exporter": "python",
   "pygments_lexer": "ipython3",
   "version": "3.12.10"
  }
 },
 "nbformat": 4,
 "nbformat_minor": 5
}
